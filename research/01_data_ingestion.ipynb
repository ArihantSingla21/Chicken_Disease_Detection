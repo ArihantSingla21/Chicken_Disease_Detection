{
 "cells": [
  {
   "cell_type": "code",
   "execution_count": 1,
   "metadata": {},
   "outputs": [],
   "source": [
    "import os "
   ]
  },
  {
   "cell_type": "code",
   "execution_count": 2,
   "metadata": {},
   "outputs": [
    {
     "data": {
      "text/plain": [
       "'/Users/arihantsingla/Documents/CDD_Project/research'"
      ]
     },
     "execution_count": 2,
     "metadata": {},
     "output_type": "execute_result"
    }
   ],
   "source": [
    "%pwd"
   ]
  },
  {
   "cell_type": "code",
   "execution_count": 3,
   "metadata": {},
   "outputs": [],
   "source": [
    "os.chdir('../')"
   ]
  },
  {
   "cell_type": "code",
   "execution_count": 4,
   "metadata": {},
   "outputs": [
    {
     "data": {
      "text/plain": [
       "'/Users/arihantsingla/Documents/CDD_Project'"
      ]
     },
     "execution_count": 4,
     "metadata": {},
     "output_type": "execute_result"
    }
   ],
   "source": [
    "%pwd"
   ]
  },
  {
   "cell_type": "code",
   "execution_count": 5,
   "metadata": {},
   "outputs": [],
   "source": [
    "from dataclasses import dataclass\n",
    "from pathlib import Path\n",
    "\n",
    "@dataclass(frozen=True)\n",
    "class DataIngestionConfig:\n",
    "    root_dir: Path\n",
    "    source_URL : str\n",
    "    local_data_file: Path\n",
    "    unzip_dir: Path\n",
    "\n"
   ]
  },
  {
   "cell_type": "code",
   "execution_count": 6,
   "metadata": {},
   "outputs": [],
   "source": [
    "from src.chicken_disease_classification.constants import *\n",
    "from src.chicken_disease_classification.utils.common import read_yaml, create_directories"
   ]
  },
  {
   "cell_type": "code",
   "execution_count": 7,
   "metadata": {},
   "outputs": [],
   "source": [
    "class configManager:\n",
    "    def __init__(self, config_file_path = CONFIG_FILE_PATH, params_file_path = PARAMS_FILE_PATH):\n",
    "        self.config = read_yaml(config_file_path)\n",
    "        self.params = read_yaml(params_file_path)\n",
    "        create_directories([self.config.artifacts_root])\n",
    "\n",
    "    def get_data_ingestion_config(self) -> DataIngestionConfig:\n",
    "        config = self.config.data_ingestion\n",
    "        create_directories([config.root_dir])\n",
    "        data_ingestion_config = DataIngestionConfig(\n",
    "            root_dir=config.root_dir,\n",
    "            source_URL=config.source_URL,\n",
    "            local_data_file=config.local_data_file,\n",
    "            unzip_dir=config.unzip_dir\n",
    "        )\n",
    "        return data_ingestion_config\n",
    "    "
   ]
  },
  {
   "cell_type": "code",
   "execution_count": 8,
   "metadata": {},
   "outputs": [],
   "source": [
    "import os \n",
    "import zipfile\n",
    "import urllib.request as request\n",
    "from src.chicken_disease_classification.utils.common import get_size\n",
    "from src.chicken_disease_classification import logger"
   ]
  },
  {
   "cell_type": "code",
   "execution_count": 9,
   "metadata": {},
   "outputs": [],
   "source": [
    "class DataIngestion:\n",
    "    def __init__(self, config: DataIngestionConfig):\n",
    "        self.config = config\n",
    "\n",
    "    def download_file(self):\n",
    "        if not os.path.exists(self.config.local_data_file):\n",
    "            try:\n",
    "                filename, headers = request.urlretrieve(url=self.config.source_URL, filename=self.config.local_data_file)\n",
    "                logger.info(f\"{filename} downloaded! with the following info: {headers}\")\n",
    "            except Exception as e:\n",
    "                logger.error(f\"Error occurred while downloading the file: {e}\")\n",
    "                raise e  # Raise the exception to stop execution\n",
    "        else:\n",
    "            logger.info(f\"File already exists of size: {get_size(Path(self.config.local_data_file))}\")\n",
    "        \n",
    "        # Verify the file exists and has content\n",
    "        if not os.path.exists(self.config.local_data_file) or os.path.getsize(self.config.local_data_file) == 0:\n",
    "            raise FileNotFoundError(f\"Failed to download file to {self.config.local_data_file}\")\n",
    "            \n",
    "    def extract_zip_file(self):\n",
    "        # Check if file exists before trying to extract\n",
    "        if not os.path.exists(self.config.local_data_file):\n",
    "            raise FileNotFoundError(f\"Zip file not found at {self.config.local_data_file}\")\n",
    "            \n",
    "        unzip_path = self.config.unzip_dir\n",
    "        os.makedirs(unzip_path, exist_ok=True)\n",
    "        \n",
    "        try:\n",
    "            with zipfile.ZipFile(self.config.local_data_file, 'r') as zip_ref:\n",
    "                zip_ref.extractall(unzip_path)\n",
    "            logger.info(f\"File extracted successfully to {unzip_path}\")\n",
    "        except zipfile.BadZipFile:\n",
    "            logger.error(f\"File is not a valid zip file: {self.config.local_data_file}\")\n",
    "            raise"
   ]
  },
  {
   "cell_type": "code",
   "execution_count": 10,
   "metadata": {},
   "outputs": [
    {
     "name": "stdout",
     "output_type": "stream",
     "text": [
      "[2025-03-20 16:47:43,738: INFO: common: Reading YAML file from: config/config.yaml]\n",
      "[2025-03-20 16:47:43,739: INFO: common: YAML file read successfully.]\n",
      "[2025-03-20 16:47:43,739: INFO: common: Reading YAML file from: params.yaml]\n",
      "[2025-03-20 16:47:43,739: INFO: common: YAML file read successfully.]\n",
      "[2025-03-20 16:47:43,740: INFO: common: created directory at: artifacts]\n",
      "[2025-03-20 16:47:43,740: INFO: common: created directory at: artifacts/data_ingestion]\n",
      "[2025-03-20 16:47:47,207: INFO: 3464350194: artifacts/data_ingestion/data.zip downloaded! with the following info: Connection: close\n",
      "Content-Length: 11616915\n",
      "Cache-Control: max-age=300\n",
      "Content-Security-Policy: default-src 'none'; style-src 'unsafe-inline'; sandbox\n",
      "Content-Type: application/zip\n",
      "ETag: \"adf745abc03891fe493c3be264ec012691fe3fa21d861f35a27edbe6d86a76b1\"\n",
      "Strict-Transport-Security: max-age=31536000\n",
      "X-Content-Type-Options: nosniff\n",
      "X-Frame-Options: deny\n",
      "X-XSS-Protection: 1; mode=block\n",
      "X-GitHub-Request-Id: 378F:259B43:D4650:1EB3D6:67DBF958\n",
      "Accept-Ranges: bytes\n",
      "Date: Thu, 20 Mar 2025 11:17:45 GMT\n",
      "Via: 1.1 varnish\n",
      "X-Served-By: cache-maa10251-MAA\n",
      "X-Cache: MISS\n",
      "X-Cache-Hits: 0\n",
      "X-Timer: S1742469465.674169,VS0,VE850\n",
      "Vary: Authorization,Accept-Encoding,Origin\n",
      "Access-Control-Allow-Origin: *\n",
      "Cross-Origin-Resource-Policy: cross-origin\n",
      "X-Fastly-Request-ID: d84fbbacd0a212c12474d1ae1645a467c89dd97b\n",
      "Expires: Thu, 20 Mar 2025 11:22:45 GMT\n",
      "Source-Age: 1\n",
      "\n",
      "]\n",
      "[2025-03-20 16:47:47,293: INFO: 3464350194: File extracted successfully to artifacts/data_ingestion]\n",
      "Data ingestion completed successfully\n"
     ]
    }
   ],
   "source": [
    "config = configManager()\n",
    "data_ingestion_config = config.get_data_ingestion_config()\n",
    "data_ingestion = DataIngestion(config=data_ingestion_config)\n",
    "data_ingestion.download_file()\n",
    "data_ingestion.extract_zip_file()\n",
    "try:\n",
    "    print(\"Data ingestion completed successfully\")  \n",
    "except Exception as e:\n",
    "    logger.error(f\"An error occurred during data ingestion completion message: {e}\")"
   ]
  },
  {
   "cell_type": "code",
   "execution_count": null,
   "metadata": {},
   "outputs": [],
   "source": []
  },
  {
   "cell_type": "code",
   "execution_count": null,
   "metadata": {},
   "outputs": [],
   "source": []
  }
 ],
 "metadata": {
  "kernelspec": {
   "display_name": "Python 3",
   "language": "python",
   "name": "python3"
  },
  "language_info": {
   "codemirror_mode": {
    "name": "ipython",
    "version": 3
   },
   "file_extension": ".py",
   "mimetype": "text/x-python",
   "name": "python",
   "nbconvert_exporter": "python",
   "pygments_lexer": "ipython3",
   "version": "3.11.11"
  }
 },
 "nbformat": 4,
 "nbformat_minor": 2
}
